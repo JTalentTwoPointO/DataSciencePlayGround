{
 "cells": [
  {
   "cell_type": "markdown",
   "id": "f5dfc52f",
   "metadata": {
    "papermill": {
     "duration": 0.010495,
     "end_time": "2024-10-04T14:27:56.747743",
     "exception": false,
     "start_time": "2024-10-04T14:27:56.737248",
     "status": "completed"
    },
    "tags": []
   },
   "source": [
    "## Download and Clean Dataset"
   ]
  },
  {
   "cell_type": "markdown",
   "id": "313c321d",
   "metadata": {
    "papermill": {
     "duration": 0.008343,
     "end_time": "2024-10-04T14:27:56.764975",
     "exception": false,
     "start_time": "2024-10-04T14:27:56.756632",
     "status": "completed"
    },
    "tags": []
   },
   "source": [
    "Let's start by importing the <em>pandas</em> and the Numpy libraries."
   ]
  },
  {
   "cell_type": "code",
   "execution_count": 1,
   "id": "aa9b8631",
   "metadata": {
    "execution": {
     "iopub.execute_input": "2024-10-04T14:27:56.785069Z",
     "iopub.status.busy": "2024-10-04T14:27:56.784669Z",
     "iopub.status.idle": "2024-10-04T14:27:57.678518Z",
     "shell.execute_reply": "2024-10-04T14:27:57.677362Z"
    },
    "papermill": {
     "duration": 0.906557,
     "end_time": "2024-10-04T14:27:57.681080",
     "exception": false,
     "start_time": "2024-10-04T14:27:56.774523",
     "status": "completed"
    },
    "tags": []
   },
   "outputs": [],
   "source": [
    "import pandas as pd\n",
    "import numpy as np"
   ]
  },
  {
   "cell_type": "markdown",
   "id": "86ec6738",
   "metadata": {
    "papermill": {
     "duration": 0.008459,
     "end_time": "2024-10-04T14:27:57.698963",
     "exception": false,
     "start_time": "2024-10-04T14:27:57.690504",
     "status": "completed"
    },
    "tags": []
   },
   "source": [
    "We will be using the dataset provided in the assignment\n",
    "\n",
    "<strong>The dataset is about the compressive strength of different samples of concrete based on the volumes of the different ingredients that were used to make them. Ingredients include:</strong>\n",
    "\n",
    "<strong>1. Cement</strong>\n",
    "\n",
    "<strong>2. Blast Furnace Slag</strong>\n",
    "\n",
    "<strong>3. Fly Ash</strong>\n",
    "\n",
    "<strong>4. Water</strong>\n",
    "\n",
    "<strong>5. Superplasticizer</strong>\n",
    "\n",
    "<strong>6. Coarse Aggregate</strong>\n",
    "\n",
    "<strong>7. Fine Aggregate</strong>"
   ]
  },
  {
   "cell_type": "markdown",
   "id": "29d0f1fb",
   "metadata": {
    "papermill": {
     "duration": 0.008272,
     "end_time": "2024-10-04T14:27:57.715819",
     "exception": false,
     "start_time": "2024-10-04T14:27:57.707547",
     "status": "completed"
    },
    "tags": []
   },
   "source": [
    "Let's read the dataset into a <em>pandas</em> dataframe."
   ]
  },
  {
   "cell_type": "code",
   "execution_count": 2,
   "id": "8527fcdf",
   "metadata": {
    "execution": {
     "iopub.execute_input": "2024-10-04T14:27:57.734783Z",
     "iopub.status.busy": "2024-10-04T14:27:57.734270Z",
     "iopub.status.idle": "2024-10-04T14:27:57.775893Z",
     "shell.execute_reply": "2024-10-04T14:27:57.774816Z"
    },
    "papermill": {
     "duration": 0.053641,
     "end_time": "2024-10-04T14:27:57.778023",
     "exception": false,
     "start_time": "2024-10-04T14:27:57.724382",
     "status": "completed"
    },
    "tags": []
   },
   "outputs": [
    {
     "data": {
      "text/html": [
       "<div>\n",
       "<style scoped>\n",
       "    .dataframe tbody tr th:only-of-type {\n",
       "        vertical-align: middle;\n",
       "    }\n",
       "\n",
       "    .dataframe tbody tr th {\n",
       "        vertical-align: top;\n",
       "    }\n",
       "\n",
       "    .dataframe thead th {\n",
       "        text-align: right;\n",
       "    }\n",
       "</style>\n",
       "<table border=\"1\" class=\"dataframe\">\n",
       "  <thead>\n",
       "    <tr style=\"text-align: right;\">\n",
       "      <th></th>\n",
       "      <th>Cement</th>\n",
       "      <th>Blast Furnace Slag</th>\n",
       "      <th>Fly Ash</th>\n",
       "      <th>Water</th>\n",
       "      <th>Superplasticizer</th>\n",
       "      <th>Coarse Aggregate</th>\n",
       "      <th>Fine Aggregate</th>\n",
       "      <th>Age</th>\n",
       "      <th>Strength</th>\n",
       "    </tr>\n",
       "  </thead>\n",
       "  <tbody>\n",
       "    <tr>\n",
       "      <th>0</th>\n",
       "      <td>540.0</td>\n",
       "      <td>0.0</td>\n",
       "      <td>0.0</td>\n",
       "      <td>162.0</td>\n",
       "      <td>2.5</td>\n",
       "      <td>1040.0</td>\n",
       "      <td>676.0</td>\n",
       "      <td>28</td>\n",
       "      <td>79.99</td>\n",
       "    </tr>\n",
       "    <tr>\n",
       "      <th>1</th>\n",
       "      <td>540.0</td>\n",
       "      <td>0.0</td>\n",
       "      <td>0.0</td>\n",
       "      <td>162.0</td>\n",
       "      <td>2.5</td>\n",
       "      <td>1055.0</td>\n",
       "      <td>676.0</td>\n",
       "      <td>28</td>\n",
       "      <td>61.89</td>\n",
       "    </tr>\n",
       "    <tr>\n",
       "      <th>2</th>\n",
       "      <td>332.5</td>\n",
       "      <td>142.5</td>\n",
       "      <td>0.0</td>\n",
       "      <td>228.0</td>\n",
       "      <td>0.0</td>\n",
       "      <td>932.0</td>\n",
       "      <td>594.0</td>\n",
       "      <td>270</td>\n",
       "      <td>40.27</td>\n",
       "    </tr>\n",
       "    <tr>\n",
       "      <th>3</th>\n",
       "      <td>332.5</td>\n",
       "      <td>142.5</td>\n",
       "      <td>0.0</td>\n",
       "      <td>228.0</td>\n",
       "      <td>0.0</td>\n",
       "      <td>932.0</td>\n",
       "      <td>594.0</td>\n",
       "      <td>365</td>\n",
       "      <td>41.05</td>\n",
       "    </tr>\n",
       "    <tr>\n",
       "      <th>4</th>\n",
       "      <td>198.6</td>\n",
       "      <td>132.4</td>\n",
       "      <td>0.0</td>\n",
       "      <td>192.0</td>\n",
       "      <td>0.0</td>\n",
       "      <td>978.4</td>\n",
       "      <td>825.5</td>\n",
       "      <td>360</td>\n",
       "      <td>44.30</td>\n",
       "    </tr>\n",
       "  </tbody>\n",
       "</table>\n",
       "</div>"
      ],
      "text/plain": [
       "   Cement  Blast Furnace Slag  Fly Ash  Water  Superplasticizer  \\\n",
       "0   540.0                 0.0      0.0  162.0               2.5   \n",
       "1   540.0                 0.0      0.0  162.0               2.5   \n",
       "2   332.5               142.5      0.0  228.0               0.0   \n",
       "3   332.5               142.5      0.0  228.0               0.0   \n",
       "4   198.6               132.4      0.0  192.0               0.0   \n",
       "\n",
       "   Coarse Aggregate  Fine Aggregate  Age  Strength  \n",
       "0            1040.0           676.0   28     79.99  \n",
       "1            1055.0           676.0   28     61.89  \n",
       "2             932.0           594.0  270     40.27  \n",
       "3             932.0           594.0  365     41.05  \n",
       "4             978.4           825.5  360     44.30  "
      ]
     },
     "execution_count": 2,
     "metadata": {},
     "output_type": "execute_result"
    }
   ],
   "source": [
    "concrete_data = pd.read_csv('/kaggle/input/concrete/concrete_data.csv')\n",
    "concrete_data.head()"
   ]
  },
  {
   "cell_type": "markdown",
   "id": "34d22a5f",
   "metadata": {
    "papermill": {
     "duration": 0.008502,
     "end_time": "2024-10-04T14:27:57.795514",
     "exception": false,
     "start_time": "2024-10-04T14:27:57.787012",
     "status": "completed"
    },
    "tags": []
   },
   "source": [
    "So the first concrete sample has 540 cubic meter of cement, 0 cubic meter of blast furnace slag, 0 cubic meter of fly ash, 162 cubic meter of water, 2.5 cubic meter of superplaticizer, 1040 cubic meter of coarse aggregate, 676 cubic meter of fine aggregate. Such a concrete mix which is 28 days old, has a compressive strength of 79.99 MPa. "
   ]
  },
  {
   "cell_type": "markdown",
   "id": "81a63782",
   "metadata": {
    "papermill": {
     "duration": 0.008528,
     "end_time": "2024-10-04T14:27:57.812874",
     "exception": false,
     "start_time": "2024-10-04T14:27:57.804346",
     "status": "completed"
    },
    "tags": []
   },
   "source": [
    "#### Let's check how many data points we have."
   ]
  },
  {
   "cell_type": "code",
   "execution_count": 3,
   "id": "afe6eb19",
   "metadata": {
    "execution": {
     "iopub.execute_input": "2024-10-04T14:27:57.832193Z",
     "iopub.status.busy": "2024-10-04T14:27:57.831783Z",
     "iopub.status.idle": "2024-10-04T14:27:57.838775Z",
     "shell.execute_reply": "2024-10-04T14:27:57.837698Z"
    },
    "papermill": {
     "duration": 0.019207,
     "end_time": "2024-10-04T14:27:57.840923",
     "exception": false,
     "start_time": "2024-10-04T14:27:57.821716",
     "status": "completed"
    },
    "tags": []
   },
   "outputs": [
    {
     "data": {
      "text/plain": [
       "(1030, 9)"
      ]
     },
     "execution_count": 3,
     "metadata": {},
     "output_type": "execute_result"
    }
   ],
   "source": [
    "concrete_data.shape"
   ]
  },
  {
   "cell_type": "markdown",
   "id": "2daf823b",
   "metadata": {
    "papermill": {
     "duration": 0.008803,
     "end_time": "2024-10-04T14:27:57.859043",
     "exception": false,
     "start_time": "2024-10-04T14:27:57.850240",
     "status": "completed"
    },
    "tags": []
   },
   "source": [
    "So, there are approximately 1000 samples to train our model on. Because of the few samples, we have to be careful not to overfit the training data."
   ]
  },
  {
   "cell_type": "markdown",
   "id": "a2f8f35c",
   "metadata": {
    "papermill": {
     "duration": 0.008725,
     "end_time": "2024-10-04T14:27:57.876938",
     "exception": false,
     "start_time": "2024-10-04T14:27:57.868213",
     "status": "completed"
    },
    "tags": []
   },
   "source": [
    "Let's check the dataset for any missing values."
   ]
  },
  {
   "cell_type": "code",
   "execution_count": 4,
   "id": "40204b81",
   "metadata": {
    "execution": {
     "iopub.execute_input": "2024-10-04T14:27:57.896544Z",
     "iopub.status.busy": "2024-10-04T14:27:57.896131Z",
     "iopub.status.idle": "2024-10-04T14:27:57.932793Z",
     "shell.execute_reply": "2024-10-04T14:27:57.931781Z"
    },
    "papermill": {
     "duration": 0.048959,
     "end_time": "2024-10-04T14:27:57.934990",
     "exception": false,
     "start_time": "2024-10-04T14:27:57.886031",
     "status": "completed"
    },
    "tags": []
   },
   "outputs": [
    {
     "data": {
      "text/html": [
       "<div>\n",
       "<style scoped>\n",
       "    .dataframe tbody tr th:only-of-type {\n",
       "        vertical-align: middle;\n",
       "    }\n",
       "\n",
       "    .dataframe tbody tr th {\n",
       "        vertical-align: top;\n",
       "    }\n",
       "\n",
       "    .dataframe thead th {\n",
       "        text-align: right;\n",
       "    }\n",
       "</style>\n",
       "<table border=\"1\" class=\"dataframe\">\n",
       "  <thead>\n",
       "    <tr style=\"text-align: right;\">\n",
       "      <th></th>\n",
       "      <th>Cement</th>\n",
       "      <th>Blast Furnace Slag</th>\n",
       "      <th>Fly Ash</th>\n",
       "      <th>Water</th>\n",
       "      <th>Superplasticizer</th>\n",
       "      <th>Coarse Aggregate</th>\n",
       "      <th>Fine Aggregate</th>\n",
       "      <th>Age</th>\n",
       "      <th>Strength</th>\n",
       "    </tr>\n",
       "  </thead>\n",
       "  <tbody>\n",
       "    <tr>\n",
       "      <th>count</th>\n",
       "      <td>1030.000000</td>\n",
       "      <td>1030.000000</td>\n",
       "      <td>1030.000000</td>\n",
       "      <td>1030.000000</td>\n",
       "      <td>1030.000000</td>\n",
       "      <td>1030.000000</td>\n",
       "      <td>1030.000000</td>\n",
       "      <td>1030.000000</td>\n",
       "      <td>1030.000000</td>\n",
       "    </tr>\n",
       "    <tr>\n",
       "      <th>mean</th>\n",
       "      <td>281.167864</td>\n",
       "      <td>73.895825</td>\n",
       "      <td>54.188350</td>\n",
       "      <td>181.567282</td>\n",
       "      <td>6.204660</td>\n",
       "      <td>972.918932</td>\n",
       "      <td>773.580485</td>\n",
       "      <td>45.662136</td>\n",
       "      <td>35.817961</td>\n",
       "    </tr>\n",
       "    <tr>\n",
       "      <th>std</th>\n",
       "      <td>104.506364</td>\n",
       "      <td>86.279342</td>\n",
       "      <td>63.997004</td>\n",
       "      <td>21.354219</td>\n",
       "      <td>5.973841</td>\n",
       "      <td>77.753954</td>\n",
       "      <td>80.175980</td>\n",
       "      <td>63.169912</td>\n",
       "      <td>16.705742</td>\n",
       "    </tr>\n",
       "    <tr>\n",
       "      <th>min</th>\n",
       "      <td>102.000000</td>\n",
       "      <td>0.000000</td>\n",
       "      <td>0.000000</td>\n",
       "      <td>121.800000</td>\n",
       "      <td>0.000000</td>\n",
       "      <td>801.000000</td>\n",
       "      <td>594.000000</td>\n",
       "      <td>1.000000</td>\n",
       "      <td>2.330000</td>\n",
       "    </tr>\n",
       "    <tr>\n",
       "      <th>25%</th>\n",
       "      <td>192.375000</td>\n",
       "      <td>0.000000</td>\n",
       "      <td>0.000000</td>\n",
       "      <td>164.900000</td>\n",
       "      <td>0.000000</td>\n",
       "      <td>932.000000</td>\n",
       "      <td>730.950000</td>\n",
       "      <td>7.000000</td>\n",
       "      <td>23.710000</td>\n",
       "    </tr>\n",
       "    <tr>\n",
       "      <th>50%</th>\n",
       "      <td>272.900000</td>\n",
       "      <td>22.000000</td>\n",
       "      <td>0.000000</td>\n",
       "      <td>185.000000</td>\n",
       "      <td>6.400000</td>\n",
       "      <td>968.000000</td>\n",
       "      <td>779.500000</td>\n",
       "      <td>28.000000</td>\n",
       "      <td>34.445000</td>\n",
       "    </tr>\n",
       "    <tr>\n",
       "      <th>75%</th>\n",
       "      <td>350.000000</td>\n",
       "      <td>142.950000</td>\n",
       "      <td>118.300000</td>\n",
       "      <td>192.000000</td>\n",
       "      <td>10.200000</td>\n",
       "      <td>1029.400000</td>\n",
       "      <td>824.000000</td>\n",
       "      <td>56.000000</td>\n",
       "      <td>46.135000</td>\n",
       "    </tr>\n",
       "    <tr>\n",
       "      <th>max</th>\n",
       "      <td>540.000000</td>\n",
       "      <td>359.400000</td>\n",
       "      <td>200.100000</td>\n",
       "      <td>247.000000</td>\n",
       "      <td>32.200000</td>\n",
       "      <td>1145.000000</td>\n",
       "      <td>992.600000</td>\n",
       "      <td>365.000000</td>\n",
       "      <td>82.600000</td>\n",
       "    </tr>\n",
       "  </tbody>\n",
       "</table>\n",
       "</div>"
      ],
      "text/plain": [
       "            Cement  Blast Furnace Slag      Fly Ash        Water  \\\n",
       "count  1030.000000         1030.000000  1030.000000  1030.000000   \n",
       "mean    281.167864           73.895825    54.188350   181.567282   \n",
       "std     104.506364           86.279342    63.997004    21.354219   \n",
       "min     102.000000            0.000000     0.000000   121.800000   \n",
       "25%     192.375000            0.000000     0.000000   164.900000   \n",
       "50%     272.900000           22.000000     0.000000   185.000000   \n",
       "75%     350.000000          142.950000   118.300000   192.000000   \n",
       "max     540.000000          359.400000   200.100000   247.000000   \n",
       "\n",
       "       Superplasticizer  Coarse Aggregate  Fine Aggregate          Age  \\\n",
       "count       1030.000000       1030.000000     1030.000000  1030.000000   \n",
       "mean           6.204660        972.918932      773.580485    45.662136   \n",
       "std            5.973841         77.753954       80.175980    63.169912   \n",
       "min            0.000000        801.000000      594.000000     1.000000   \n",
       "25%            0.000000        932.000000      730.950000     7.000000   \n",
       "50%            6.400000        968.000000      779.500000    28.000000   \n",
       "75%           10.200000       1029.400000      824.000000    56.000000   \n",
       "max           32.200000       1145.000000      992.600000   365.000000   \n",
       "\n",
       "          Strength  \n",
       "count  1030.000000  \n",
       "mean     35.817961  \n",
       "std      16.705742  \n",
       "min       2.330000  \n",
       "25%      23.710000  \n",
       "50%      34.445000  \n",
       "75%      46.135000  \n",
       "max      82.600000  "
      ]
     },
     "execution_count": 4,
     "metadata": {},
     "output_type": "execute_result"
    }
   ],
   "source": [
    "concrete_data.describe()"
   ]
  },
  {
   "cell_type": "code",
   "execution_count": 5,
   "id": "23aedcd7",
   "metadata": {
    "execution": {
     "iopub.execute_input": "2024-10-04T14:27:57.956075Z",
     "iopub.status.busy": "2024-10-04T14:27:57.954983Z",
     "iopub.status.idle": "2024-10-04T14:27:57.963961Z",
     "shell.execute_reply": "2024-10-04T14:27:57.962966Z"
    },
    "papermill": {
     "duration": 0.021997,
     "end_time": "2024-10-04T14:27:57.966445",
     "exception": false,
     "start_time": "2024-10-04T14:27:57.944448",
     "status": "completed"
    },
    "tags": []
   },
   "outputs": [
    {
     "data": {
      "text/plain": [
       "Cement                0\n",
       "Blast Furnace Slag    0\n",
       "Fly Ash               0\n",
       "Water                 0\n",
       "Superplasticizer      0\n",
       "Coarse Aggregate      0\n",
       "Fine Aggregate        0\n",
       "Age                   0\n",
       "Strength              0\n",
       "dtype: int64"
      ]
     },
     "execution_count": 5,
     "metadata": {},
     "output_type": "execute_result"
    }
   ],
   "source": [
    "concrete_data.isnull().sum()"
   ]
  },
  {
   "cell_type": "markdown",
   "id": "151ef2b3",
   "metadata": {
    "papermill": {
     "duration": 0.009694,
     "end_time": "2024-10-04T14:27:57.986112",
     "exception": false,
     "start_time": "2024-10-04T14:27:57.976418",
     "status": "completed"
    },
    "tags": []
   },
   "source": [
    "The data looks very clean and is ready to be used to build our model."
   ]
  },
  {
   "cell_type": "markdown",
   "id": "4af069c5",
   "metadata": {
    "papermill": {
     "duration": 0.009288,
     "end_time": "2024-10-04T14:27:58.005066",
     "exception": false,
     "start_time": "2024-10-04T14:27:57.995778",
     "status": "completed"
    },
    "tags": []
   },
   "source": [
    "#### Split data into predictors and target"
   ]
  },
  {
   "cell_type": "markdown",
   "id": "33dbe068",
   "metadata": {
    "papermill": {
     "duration": 0.009113,
     "end_time": "2024-10-04T14:27:58.023688",
     "exception": false,
     "start_time": "2024-10-04T14:27:58.014575",
     "status": "completed"
    },
    "tags": []
   },
   "source": [
    "The target variable in this problem is the concrete sample strength. Therefore, our predictors will be all the other columns."
   ]
  },
  {
   "cell_type": "code",
   "execution_count": 6,
   "id": "31d435cd",
   "metadata": {
    "execution": {
     "iopub.execute_input": "2024-10-04T14:27:58.044150Z",
     "iopub.status.busy": "2024-10-04T14:27:58.043745Z",
     "iopub.status.idle": "2024-10-04T14:27:58.053395Z",
     "shell.execute_reply": "2024-10-04T14:27:58.052328Z"
    },
    "papermill": {
     "duration": 0.0225,
     "end_time": "2024-10-04T14:27:58.055588",
     "exception": false,
     "start_time": "2024-10-04T14:27:58.033088",
     "status": "completed"
    },
    "tags": []
   },
   "outputs": [],
   "source": [
    "concrete_data_columns = concrete_data.columns\n",
    "predictors = concrete_data[concrete_data_columns[concrete_data_columns != 'Strength']] # all columns except Strength\n",
    "target = concrete_data['Strength'] # Strength column"
   ]
  },
  {
   "cell_type": "markdown",
   "id": "d1af6e5e",
   "metadata": {
    "papermill": {
     "duration": 0.009166,
     "end_time": "2024-10-04T14:27:58.074456",
     "exception": false,
     "start_time": "2024-10-04T14:27:58.065290",
     "status": "completed"
    },
    "tags": []
   },
   "source": [
    "Performing Quick Sanity Check"
   ]
  },
  {
   "cell_type": "code",
   "execution_count": 7,
   "id": "86975faf",
   "metadata": {
    "execution": {
     "iopub.execute_input": "2024-10-04T14:27:58.095793Z",
     "iopub.status.busy": "2024-10-04T14:27:58.094866Z",
     "iopub.status.idle": "2024-10-04T14:27:58.110125Z",
     "shell.execute_reply": "2024-10-04T14:27:58.109194Z"
    },
    "papermill": {
     "duration": 0.028254,
     "end_time": "2024-10-04T14:27:58.112136",
     "exception": false,
     "start_time": "2024-10-04T14:27:58.083882",
     "status": "completed"
    },
    "tags": []
   },
   "outputs": [
    {
     "data": {
      "text/html": [
       "<div>\n",
       "<style scoped>\n",
       "    .dataframe tbody tr th:only-of-type {\n",
       "        vertical-align: middle;\n",
       "    }\n",
       "\n",
       "    .dataframe tbody tr th {\n",
       "        vertical-align: top;\n",
       "    }\n",
       "\n",
       "    .dataframe thead th {\n",
       "        text-align: right;\n",
       "    }\n",
       "</style>\n",
       "<table border=\"1\" class=\"dataframe\">\n",
       "  <thead>\n",
       "    <tr style=\"text-align: right;\">\n",
       "      <th></th>\n",
       "      <th>Cement</th>\n",
       "      <th>Blast Furnace Slag</th>\n",
       "      <th>Fly Ash</th>\n",
       "      <th>Water</th>\n",
       "      <th>Superplasticizer</th>\n",
       "      <th>Coarse Aggregate</th>\n",
       "      <th>Fine Aggregate</th>\n",
       "      <th>Age</th>\n",
       "    </tr>\n",
       "  </thead>\n",
       "  <tbody>\n",
       "    <tr>\n",
       "      <th>0</th>\n",
       "      <td>540.0</td>\n",
       "      <td>0.0</td>\n",
       "      <td>0.0</td>\n",
       "      <td>162.0</td>\n",
       "      <td>2.5</td>\n",
       "      <td>1040.0</td>\n",
       "      <td>676.0</td>\n",
       "      <td>28</td>\n",
       "    </tr>\n",
       "    <tr>\n",
       "      <th>1</th>\n",
       "      <td>540.0</td>\n",
       "      <td>0.0</td>\n",
       "      <td>0.0</td>\n",
       "      <td>162.0</td>\n",
       "      <td>2.5</td>\n",
       "      <td>1055.0</td>\n",
       "      <td>676.0</td>\n",
       "      <td>28</td>\n",
       "    </tr>\n",
       "    <tr>\n",
       "      <th>2</th>\n",
       "      <td>332.5</td>\n",
       "      <td>142.5</td>\n",
       "      <td>0.0</td>\n",
       "      <td>228.0</td>\n",
       "      <td>0.0</td>\n",
       "      <td>932.0</td>\n",
       "      <td>594.0</td>\n",
       "      <td>270</td>\n",
       "    </tr>\n",
       "    <tr>\n",
       "      <th>3</th>\n",
       "      <td>332.5</td>\n",
       "      <td>142.5</td>\n",
       "      <td>0.0</td>\n",
       "      <td>228.0</td>\n",
       "      <td>0.0</td>\n",
       "      <td>932.0</td>\n",
       "      <td>594.0</td>\n",
       "      <td>365</td>\n",
       "    </tr>\n",
       "    <tr>\n",
       "      <th>4</th>\n",
       "      <td>198.6</td>\n",
       "      <td>132.4</td>\n",
       "      <td>0.0</td>\n",
       "      <td>192.0</td>\n",
       "      <td>0.0</td>\n",
       "      <td>978.4</td>\n",
       "      <td>825.5</td>\n",
       "      <td>360</td>\n",
       "    </tr>\n",
       "  </tbody>\n",
       "</table>\n",
       "</div>"
      ],
      "text/plain": [
       "   Cement  Blast Furnace Slag  Fly Ash  Water  Superplasticizer  \\\n",
       "0   540.0                 0.0      0.0  162.0               2.5   \n",
       "1   540.0                 0.0      0.0  162.0               2.5   \n",
       "2   332.5               142.5      0.0  228.0               0.0   \n",
       "3   332.5               142.5      0.0  228.0               0.0   \n",
       "4   198.6               132.4      0.0  192.0               0.0   \n",
       "\n",
       "   Coarse Aggregate  Fine Aggregate  Age  \n",
       "0            1040.0           676.0   28  \n",
       "1            1055.0           676.0   28  \n",
       "2             932.0           594.0  270  \n",
       "3             932.0           594.0  365  \n",
       "4             978.4           825.5  360  "
      ]
     },
     "execution_count": 7,
     "metadata": {},
     "output_type": "execute_result"
    }
   ],
   "source": [
    "predictors.head()"
   ]
  },
  {
   "cell_type": "code",
   "execution_count": 8,
   "id": "00c488e2",
   "metadata": {
    "execution": {
     "iopub.execute_input": "2024-10-04T14:27:58.132819Z",
     "iopub.status.busy": "2024-10-04T14:27:58.132442Z",
     "iopub.status.idle": "2024-10-04T14:27:58.140072Z",
     "shell.execute_reply": "2024-10-04T14:27:58.139152Z"
    },
    "papermill": {
     "duration": 0.02029,
     "end_time": "2024-10-04T14:27:58.142103",
     "exception": false,
     "start_time": "2024-10-04T14:27:58.121813",
     "status": "completed"
    },
    "tags": []
   },
   "outputs": [
    {
     "data": {
      "text/plain": [
       "0    79.99\n",
       "1    61.89\n",
       "2    40.27\n",
       "3    41.05\n",
       "4    44.30\n",
       "Name: Strength, dtype: float64"
      ]
     },
     "execution_count": 8,
     "metadata": {},
     "output_type": "execute_result"
    }
   ],
   "source": [
    "target.head()"
   ]
  },
  {
   "cell_type": "markdown",
   "id": "8183bd8d",
   "metadata": {
    "papermill": {
     "duration": 0.009453,
     "end_time": "2024-10-04T14:27:58.161460",
     "exception": false,
     "start_time": "2024-10-04T14:27:58.152007",
     "status": "completed"
    },
    "tags": []
   },
   "source": [
    "Finally, the last step is to normalize the data by substracting the mean and dividing by the standard deviation."
   ]
  },
  {
   "cell_type": "code",
   "execution_count": 9,
   "id": "7301680b",
   "metadata": {
    "execution": {
     "iopub.execute_input": "2024-10-04T14:27:58.183079Z",
     "iopub.status.busy": "2024-10-04T14:27:58.181980Z",
     "iopub.status.idle": "2024-10-04T14:27:58.199508Z",
     "shell.execute_reply": "2024-10-04T14:27:58.198219Z"
    },
    "papermill": {
     "duration": 0.030513,
     "end_time": "2024-10-04T14:27:58.201703",
     "exception": false,
     "start_time": "2024-10-04T14:27:58.171190",
     "status": "completed"
    },
    "tags": []
   },
   "outputs": [
    {
     "data": {
      "text/html": [
       "<div>\n",
       "<style scoped>\n",
       "    .dataframe tbody tr th:only-of-type {\n",
       "        vertical-align: middle;\n",
       "    }\n",
       "\n",
       "    .dataframe tbody tr th {\n",
       "        vertical-align: top;\n",
       "    }\n",
       "\n",
       "    .dataframe thead th {\n",
       "        text-align: right;\n",
       "    }\n",
       "</style>\n",
       "<table border=\"1\" class=\"dataframe\">\n",
       "  <thead>\n",
       "    <tr style=\"text-align: right;\">\n",
       "      <th></th>\n",
       "      <th>Cement</th>\n",
       "      <th>Blast Furnace Slag</th>\n",
       "      <th>Fly Ash</th>\n",
       "      <th>Water</th>\n",
       "      <th>Superplasticizer</th>\n",
       "      <th>Coarse Aggregate</th>\n",
       "      <th>Fine Aggregate</th>\n",
       "      <th>Age</th>\n",
       "    </tr>\n",
       "  </thead>\n",
       "  <tbody>\n",
       "    <tr>\n",
       "      <th>0</th>\n",
       "      <td>2.476712</td>\n",
       "      <td>-0.856472</td>\n",
       "      <td>-0.846733</td>\n",
       "      <td>-0.916319</td>\n",
       "      <td>-0.620147</td>\n",
       "      <td>0.862735</td>\n",
       "      <td>-1.217079</td>\n",
       "      <td>-0.279597</td>\n",
       "    </tr>\n",
       "    <tr>\n",
       "      <th>1</th>\n",
       "      <td>2.476712</td>\n",
       "      <td>-0.856472</td>\n",
       "      <td>-0.846733</td>\n",
       "      <td>-0.916319</td>\n",
       "      <td>-0.620147</td>\n",
       "      <td>1.055651</td>\n",
       "      <td>-1.217079</td>\n",
       "      <td>-0.279597</td>\n",
       "    </tr>\n",
       "    <tr>\n",
       "      <th>2</th>\n",
       "      <td>0.491187</td>\n",
       "      <td>0.795140</td>\n",
       "      <td>-0.846733</td>\n",
       "      <td>2.174405</td>\n",
       "      <td>-1.038638</td>\n",
       "      <td>-0.526262</td>\n",
       "      <td>-2.239829</td>\n",
       "      <td>3.551340</td>\n",
       "    </tr>\n",
       "    <tr>\n",
       "      <th>3</th>\n",
       "      <td>0.491187</td>\n",
       "      <td>0.795140</td>\n",
       "      <td>-0.846733</td>\n",
       "      <td>2.174405</td>\n",
       "      <td>-1.038638</td>\n",
       "      <td>-0.526262</td>\n",
       "      <td>-2.239829</td>\n",
       "      <td>5.055221</td>\n",
       "    </tr>\n",
       "    <tr>\n",
       "      <th>4</th>\n",
       "      <td>-0.790075</td>\n",
       "      <td>0.678079</td>\n",
       "      <td>-0.846733</td>\n",
       "      <td>0.488555</td>\n",
       "      <td>-1.038638</td>\n",
       "      <td>0.070492</td>\n",
       "      <td>0.647569</td>\n",
       "      <td>4.976069</td>\n",
       "    </tr>\n",
       "  </tbody>\n",
       "</table>\n",
       "</div>"
      ],
      "text/plain": [
       "     Cement  Blast Furnace Slag   Fly Ash     Water  Superplasticizer  \\\n",
       "0  2.476712           -0.856472 -0.846733 -0.916319         -0.620147   \n",
       "1  2.476712           -0.856472 -0.846733 -0.916319         -0.620147   \n",
       "2  0.491187            0.795140 -0.846733  2.174405         -1.038638   \n",
       "3  0.491187            0.795140 -0.846733  2.174405         -1.038638   \n",
       "4 -0.790075            0.678079 -0.846733  0.488555         -1.038638   \n",
       "\n",
       "   Coarse Aggregate  Fine Aggregate       Age  \n",
       "0          0.862735       -1.217079 -0.279597  \n",
       "1          1.055651       -1.217079 -0.279597  \n",
       "2         -0.526262       -2.239829  3.551340  \n",
       "3         -0.526262       -2.239829  5.055221  \n",
       "4          0.070492        0.647569  4.976069  "
      ]
     },
     "execution_count": 9,
     "metadata": {},
     "output_type": "execute_result"
    }
   ],
   "source": [
    "predictors_norm = (predictors - predictors.mean()) / predictors.std()\n",
    "predictors_norm.head()"
   ]
  },
  {
   "cell_type": "code",
   "execution_count": 10,
   "id": "217c350a",
   "metadata": {
    "execution": {
     "iopub.execute_input": "2024-10-04T14:27:58.223746Z",
     "iopub.status.busy": "2024-10-04T14:27:58.223025Z",
     "iopub.status.idle": "2024-10-04T14:27:58.229431Z",
     "shell.execute_reply": "2024-10-04T14:27:58.228487Z"
    },
    "papermill": {
     "duration": 0.019722,
     "end_time": "2024-10-04T14:27:58.231498",
     "exception": false,
     "start_time": "2024-10-04T14:27:58.211776",
     "status": "completed"
    },
    "tags": []
   },
   "outputs": [
    {
     "data": {
      "text/plain": [
       "8"
      ]
     },
     "execution_count": 10,
     "metadata": {},
     "output_type": "execute_result"
    }
   ],
   "source": [
    "n_columns = predictors_norm.shape[1] # number of predictors\n",
    "n_columns"
   ]
  },
  {
   "cell_type": "markdown",
   "id": "d88c4570",
   "metadata": {
    "papermill": {
     "duration": 0.009948,
     "end_time": "2024-10-04T14:27:58.251712",
     "exception": false,
     "start_time": "2024-10-04T14:27:58.241764",
     "status": "completed"
    },
    "tags": []
   },
   "source": [
    "<a id=\"item1\"></a>"
   ]
  },
  {
   "cell_type": "markdown",
   "id": "e9bfbcd7",
   "metadata": {
    "papermill": {
     "duration": 0.009885,
     "end_time": "2024-10-04T14:27:58.271884",
     "exception": false,
     "start_time": "2024-10-04T14:27:58.261999",
     "status": "completed"
    },
    "tags": []
   },
   "source": [
    "<a id=\"item1\"></a>"
   ]
  },
  {
   "cell_type": "markdown",
   "id": "60202732",
   "metadata": {
    "papermill": {
     "duration": 0.010033,
     "end_time": "2024-10-04T14:27:58.292823",
     "exception": false,
     "start_time": "2024-10-04T14:27:58.282790",
     "status": "completed"
    },
    "tags": []
   },
   "source": [
    "## Import Keras"
   ]
  },
  {
   "cell_type": "markdown",
   "id": "19f98985",
   "metadata": {
    "papermill": {
     "duration": 0.009792,
     "end_time": "2024-10-04T14:27:58.312723",
     "exception": false,
     "start_time": "2024-10-04T14:27:58.302931",
     "status": "completed"
    },
    "tags": []
   },
   "source": [
    "#### Let's go ahead and import the Keras library"
   ]
  },
  {
   "cell_type": "code",
   "execution_count": 11,
   "id": "543371fd",
   "metadata": {
    "execution": {
     "iopub.execute_input": "2024-10-04T14:27:58.335243Z",
     "iopub.status.busy": "2024-10-04T14:27:58.334358Z",
     "iopub.status.idle": "2024-10-04T14:28:12.089609Z",
     "shell.execute_reply": "2024-10-04T14:28:12.088655Z"
    },
    "papermill": {
     "duration": 13.768997,
     "end_time": "2024-10-04T14:28:12.091942",
     "exception": false,
     "start_time": "2024-10-04T14:27:58.322945",
     "status": "completed"
    },
    "tags": []
   },
   "outputs": [],
   "source": [
    "import keras"
   ]
  },
  {
   "cell_type": "markdown",
   "id": "e1461b92",
   "metadata": {
    "papermill": {
     "duration": 0.00991,
     "end_time": "2024-10-04T14:28:12.112280",
     "exception": false,
     "start_time": "2024-10-04T14:28:12.102370",
     "status": "completed"
    },
    "tags": []
   },
   "source": [
    "As you can see, the TensorFlow backend was used to install the Keras library."
   ]
  },
  {
   "cell_type": "markdown",
   "id": "8fe958c9",
   "metadata": {
    "papermill": {
     "duration": 0.010354,
     "end_time": "2024-10-04T14:28:12.132697",
     "exception": false,
     "start_time": "2024-10-04T14:28:12.122343",
     "status": "completed"
    },
    "tags": []
   },
   "source": [
    "Let's import the rest of the packages from the Keras library that we will need to build our regressoin model."
   ]
  },
  {
   "cell_type": "code",
   "execution_count": 12,
   "id": "a6fc00af",
   "metadata": {
    "execution": {
     "iopub.execute_input": "2024-10-04T14:28:12.155559Z",
     "iopub.status.busy": "2024-10-04T14:28:12.154884Z",
     "iopub.status.idle": "2024-10-04T14:28:12.161793Z",
     "shell.execute_reply": "2024-10-04T14:28:12.160666Z"
    },
    "papermill": {
     "duration": 0.020651,
     "end_time": "2024-10-04T14:28:12.163899",
     "exception": false,
     "start_time": "2024-10-04T14:28:12.143248",
     "status": "completed"
    },
    "tags": []
   },
   "outputs": [],
   "source": [
    "from keras.models import Sequential\n",
    "from keras.layers import Dense"
   ]
  },
  {
   "cell_type": "code",
   "execution_count": 13,
   "id": "670d7645",
   "metadata": {
    "execution": {
     "iopub.execute_input": "2024-10-04T14:28:12.186055Z",
     "iopub.status.busy": "2024-10-04T14:28:12.185648Z",
     "iopub.status.idle": "2024-10-04T14:28:12.192235Z",
     "shell.execute_reply": "2024-10-04T14:28:12.191211Z"
    },
    "papermill": {
     "duration": 0.02018,
     "end_time": "2024-10-04T14:28:12.194288",
     "exception": false,
     "start_time": "2024-10-04T14:28:12.174108",
     "status": "completed"
    },
    "tags": []
   },
   "outputs": [],
   "source": [
    "# define regression model\n",
    "def regression_model():\n",
    "    # create model\n",
    "    model = Sequential()\n",
    "    model.add(Dense(10, activation='relu', input_shape=(n_columns,)))\n",
    "    model.add(Dense(10, activation='relu', input_shape=(n_columns,)))\n",
    "    model.add(Dense(10, activation='relu', input_shape=(n_columns,)))\n",
    "    model.add(Dense(1))\n",
    "    \n",
    "    # compile model\n",
    "    model.compile(optimizer='adam', loss='mean_squared_error')\n",
    "    return model"
   ]
  },
  {
   "cell_type": "markdown",
   "id": "4a9727e5",
   "metadata": {
    "papermill": {
     "duration": 0.009969,
     "end_time": "2024-10-04T14:28:12.214539",
     "exception": false,
     "start_time": "2024-10-04T14:28:12.204570",
     "status": "completed"
    },
    "tags": []
   },
   "source": [
    "The above function creates a model that has one hidden layer with 10 neurons and a ReLU activation function. It uses the adam optimizer and the mean squared error as the loss function."
   ]
  },
  {
   "cell_type": "markdown",
   "id": "ffeea2f8",
   "metadata": {
    "papermill": {
     "duration": 0.009938,
     "end_time": "2024-10-04T14:28:12.234850",
     "exception": false,
     "start_time": "2024-10-04T14:28:12.224912",
     "status": "completed"
    },
    "tags": []
   },
   "source": [
    "Lets Split the data into 70/30 using Sklearn"
   ]
  },
  {
   "cell_type": "code",
   "execution_count": 14,
   "id": "a5f29a10",
   "metadata": {
    "execution": {
     "iopub.execute_input": "2024-10-04T14:28:12.257031Z",
     "iopub.status.busy": "2024-10-04T14:28:12.256600Z",
     "iopub.status.idle": "2024-10-04T14:28:13.510810Z",
     "shell.execute_reply": "2024-10-04T14:28:13.509679Z"
    },
    "papermill": {
     "duration": 1.268235,
     "end_time": "2024-10-04T14:28:13.513301",
     "exception": false,
     "start_time": "2024-10-04T14:28:12.245066",
     "status": "completed"
    },
    "tags": []
   },
   "outputs": [],
   "source": [
    "from sklearn.model_selection import train_test_split"
   ]
  },
  {
   "cell_type": "code",
   "execution_count": 15,
   "id": "109cd8ea",
   "metadata": {
    "execution": {
     "iopub.execute_input": "2024-10-04T14:28:13.535954Z",
     "iopub.status.busy": "2024-10-04T14:28:13.535288Z",
     "iopub.status.idle": "2024-10-04T14:28:13.545037Z",
     "shell.execute_reply": "2024-10-04T14:28:13.544107Z"
    },
    "papermill": {
     "duration": 0.023498,
     "end_time": "2024-10-04T14:28:13.547235",
     "exception": false,
     "start_time": "2024-10-04T14:28:13.523737",
     "status": "completed"
    },
    "tags": []
   },
   "outputs": [],
   "source": [
    "X_train, X_test, y_train, y_test = train_test_split(predictors_norm, target, test_size=0.3, random_state=42)"
   ]
  },
  {
   "cell_type": "markdown",
   "id": "4bc04386",
   "metadata": {
    "papermill": {
     "duration": 0.009938,
     "end_time": "2024-10-04T14:28:13.567491",
     "exception": false,
     "start_time": "2024-10-04T14:28:13.557553",
     "status": "completed"
    },
    "tags": []
   },
   "source": [
    "## Train and Test the Network"
   ]
  },
  {
   "cell_type": "code",
   "execution_count": 16,
   "id": "784b6d7f",
   "metadata": {
    "execution": {
     "iopub.execute_input": "2024-10-04T14:28:13.589975Z",
     "iopub.status.busy": "2024-10-04T14:28:13.589146Z",
     "iopub.status.idle": "2024-10-04T14:28:13.705454Z",
     "shell.execute_reply": "2024-10-04T14:28:13.704331Z"
    },
    "papermill": {
     "duration": 0.130181,
     "end_time": "2024-10-04T14:28:13.707888",
     "exception": false,
     "start_time": "2024-10-04T14:28:13.577707",
     "status": "completed"
    },
    "tags": []
   },
   "outputs": [
    {
     "name": "stderr",
     "output_type": "stream",
     "text": [
      "/opt/conda/lib/python3.10/site-packages/keras/src/layers/core/dense.py:87: UserWarning: Do not pass an `input_shape`/`input_dim` argument to a layer. When using Sequential models, prefer using an `Input(shape)` object as the first layer in the model instead.\n",
      "  super().__init__(activity_regularizer=activity_regularizer, **kwargs)\n"
     ]
    }
   ],
   "source": [
    "# build the model\n",
    "model = regression_model()"
   ]
  },
  {
   "cell_type": "markdown",
   "id": "c01387eb",
   "metadata": {
    "papermill": {
     "duration": 0.010103,
     "end_time": "2024-10-04T14:28:13.729684",
     "exception": false,
     "start_time": "2024-10-04T14:28:13.719581",
     "status": "completed"
    },
    "tags": []
   },
   "source": [
    "Next, we will train the model for 50 epochs.\n"
   ]
  },
  {
   "cell_type": "code",
   "execution_count": 17,
   "id": "26efd2c0",
   "metadata": {
    "execution": {
     "iopub.execute_input": "2024-10-04T14:28:13.751633Z",
     "iopub.status.busy": "2024-10-04T14:28:13.751208Z",
     "iopub.status.idle": "2024-10-04T14:28:17.791099Z",
     "shell.execute_reply": "2024-10-04T14:28:17.789950Z"
    },
    "papermill": {
     "duration": 4.05396,
     "end_time": "2024-10-04T14:28:17.793793",
     "exception": false,
     "start_time": "2024-10-04T14:28:13.739833",
     "status": "completed"
    },
    "tags": []
   },
   "outputs": [
    {
     "name": "stdout",
     "output_type": "stream",
     "text": [
      "Epoch 1/50\n",
      "23/23 - 1s - 59ms/step - loss: 1561.7454\n",
      "Epoch 2/50\n",
      "23/23 - 0s - 2ms/step - loss: 1522.9786\n",
      "Epoch 3/50\n",
      "23/23 - 0s - 2ms/step - loss: 1474.4258\n",
      "Epoch 4/50\n",
      "23/23 - 0s - 2ms/step - loss: 1406.3781\n",
      "Epoch 5/50\n",
      "23/23 - 0s - 2ms/step - loss: 1308.4105\n",
      "Epoch 6/50\n",
      "23/23 - 0s - 2ms/step - loss: 1169.8503\n",
      "Epoch 7/50\n",
      "23/23 - 0s - 2ms/step - loss: 984.3006\n",
      "Epoch 8/50\n",
      "23/23 - 0s - 2ms/step - loss: 764.6479\n",
      "Epoch 9/50\n",
      "23/23 - 0s - 2ms/step - loss: 542.0513\n",
      "Epoch 10/50\n",
      "23/23 - 0s - 2ms/step - loss: 383.8121\n",
      "Epoch 11/50\n",
      "23/23 - 0s - 2ms/step - loss: 297.7959\n",
      "Epoch 12/50\n",
      "23/23 - 0s - 2ms/step - loss: 261.5475\n",
      "Epoch 13/50\n",
      "23/23 - 0s - 2ms/step - loss: 240.9681\n",
      "Epoch 14/50\n",
      "23/23 - 0s - 2ms/step - loss: 226.5836\n",
      "Epoch 15/50\n",
      "23/23 - 0s - 2ms/step - loss: 215.5424\n",
      "Epoch 16/50\n",
      "23/23 - 0s - 2ms/step - loss: 208.0012\n",
      "Epoch 17/50\n",
      "23/23 - 0s - 2ms/step - loss: 200.4253\n",
      "Epoch 18/50\n",
      "23/23 - 0s - 2ms/step - loss: 194.3087\n",
      "Epoch 19/50\n",
      "23/23 - 0s - 2ms/step - loss: 189.7694\n",
      "Epoch 20/50\n",
      "23/23 - 0s - 2ms/step - loss: 184.8824\n",
      "Epoch 21/50\n",
      "23/23 - 0s - 2ms/step - loss: 180.1638\n",
      "Epoch 22/50\n",
      "23/23 - 0s - 3ms/step - loss: 175.7735\n",
      "Epoch 23/50\n",
      "23/23 - 0s - 2ms/step - loss: 172.1901\n",
      "Epoch 24/50\n",
      "23/23 - 0s - 2ms/step - loss: 168.7541\n",
      "Epoch 25/50\n",
      "23/23 - 0s - 2ms/step - loss: 165.4110\n",
      "Epoch 26/50\n",
      "23/23 - 0s - 2ms/step - loss: 162.5435\n",
      "Epoch 27/50\n",
      "23/23 - 0s - 3ms/step - loss: 159.6680\n",
      "Epoch 28/50\n",
      "23/23 - 0s - 2ms/step - loss: 156.5772\n",
      "Epoch 29/50\n",
      "23/23 - 0s - 2ms/step - loss: 153.7888\n",
      "Epoch 30/50\n",
      "23/23 - 0s - 2ms/step - loss: 151.0897\n",
      "Epoch 31/50\n",
      "23/23 - 0s - 2ms/step - loss: 149.0529\n",
      "Epoch 32/50\n",
      "23/23 - 0s - 2ms/step - loss: 146.6653\n",
      "Epoch 33/50\n",
      "23/23 - 0s - 2ms/step - loss: 144.7164\n",
      "Epoch 34/50\n",
      "23/23 - 0s - 2ms/step - loss: 142.8408\n",
      "Epoch 35/50\n",
      "23/23 - 0s - 2ms/step - loss: 141.0998\n",
      "Epoch 36/50\n",
      "23/23 - 0s - 2ms/step - loss: 139.7784\n",
      "Epoch 37/50\n",
      "23/23 - 0s - 2ms/step - loss: 137.7091\n",
      "Epoch 38/50\n",
      "23/23 - 0s - 2ms/step - loss: 136.1346\n",
      "Epoch 39/50\n",
      "23/23 - 0s - 2ms/step - loss: 134.4589\n",
      "Epoch 40/50\n",
      "23/23 - 0s - 2ms/step - loss: 132.9064\n",
      "Epoch 41/50\n",
      "23/23 - 0s - 2ms/step - loss: 131.6505\n",
      "Epoch 42/50\n",
      "23/23 - 0s - 2ms/step - loss: 129.9540\n",
      "Epoch 43/50\n",
      "23/23 - 0s - 2ms/step - loss: 129.0567\n",
      "Epoch 44/50\n",
      "23/23 - 0s - 2ms/step - loss: 127.8618\n",
      "Epoch 45/50\n",
      "23/23 - 0s - 3ms/step - loss: 126.7338\n",
      "Epoch 46/50\n",
      "23/23 - 0s - 2ms/step - loss: 125.4927\n",
      "Epoch 47/50\n",
      "23/23 - 0s - 2ms/step - loss: 124.6847\n",
      "Epoch 48/50\n",
      "23/23 - 0s - 2ms/step - loss: 123.6036\n",
      "Epoch 49/50\n",
      "23/23 - 0s - 2ms/step - loss: 122.4759\n",
      "Epoch 50/50\n",
      "23/23 - 0s - 2ms/step - loss: 121.6333\n"
     ]
    },
    {
     "data": {
      "text/plain": [
       "<keras.src.callbacks.history.History at 0x790c15377010>"
      ]
     },
     "execution_count": 17,
     "metadata": {},
     "output_type": "execute_result"
    }
   ],
   "source": [
    "# fit the model\n",
    "epochs = 50\n",
    "model.fit(X_train, y_train, epochs=epochs, verbose=2)"
   ]
  },
  {
   "cell_type": "markdown",
   "id": "17ced10d",
   "metadata": {
    "papermill": {
     "duration": 0.016243,
     "end_time": "2024-10-04T14:28:17.826933",
     "exception": false,
     "start_time": "2024-10-04T14:28:17.810690",
     "status": "completed"
    },
    "tags": []
   },
   "source": [
    "Next we need to evaluate the model on the test data."
   ]
  },
  {
   "cell_type": "code",
   "execution_count": 18,
   "id": "02c21de0",
   "metadata": {
    "execution": {
     "iopub.execute_input": "2024-10-04T14:28:17.863023Z",
     "iopub.status.busy": "2024-10-04T14:28:17.862305Z",
     "iopub.status.idle": "2024-10-04T14:28:18.209107Z",
     "shell.execute_reply": "2024-10-04T14:28:18.208104Z"
    },
    "papermill": {
     "duration": 0.367462,
     "end_time": "2024-10-04T14:28:18.211503",
     "exception": false,
     "start_time": "2024-10-04T14:28:17.844041",
     "status": "completed"
    },
    "tags": []
   },
   "outputs": [
    {
     "name": "stdout",
     "output_type": "stream",
     "text": [
      "\u001b[1m10/10\u001b[0m \u001b[32m━━━━━━━━━━━━━━━━━━━━\u001b[0m\u001b[37m\u001b[0m \u001b[1m0s\u001b[0m 1ms/step - loss: 117.9147  \n",
      "\u001b[1m10/10\u001b[0m \u001b[32m━━━━━━━━━━━━━━━━━━━━\u001b[0m\u001b[37m\u001b[0m \u001b[1m0s\u001b[0m 6ms/step\n"
     ]
    },
    {
     "data": {
      "text/plain": [
       "120.31088256835938"
      ]
     },
     "execution_count": 18,
     "metadata": {},
     "output_type": "execute_result"
    }
   ],
   "source": [
    "loss_val = model.evaluate(X_test, y_test)\n",
    "y_pred = model.predict(X_test)\n",
    "loss_val"
   ]
  },
  {
   "cell_type": "markdown",
   "id": "a93502d3",
   "metadata": {
    "papermill": {
     "duration": 0.016816,
     "end_time": "2024-10-04T14:28:18.245696",
     "exception": false,
     "start_time": "2024-10-04T14:28:18.228880",
     "status": "completed"
    },
    "tags": []
   },
   "source": [
    "Now we need to compute the mean squared error between the predicted concrete strength and the actual concrete strength."
   ]
  },
  {
   "cell_type": "code",
   "execution_count": 19,
   "id": "c2c1b944",
   "metadata": {
    "execution": {
     "iopub.execute_input": "2024-10-04T14:28:18.281720Z",
     "iopub.status.busy": "2024-10-04T14:28:18.280963Z",
     "iopub.status.idle": "2024-10-04T14:28:18.285959Z",
     "shell.execute_reply": "2024-10-04T14:28:18.284914Z"
    },
    "papermill": {
     "duration": 0.026009,
     "end_time": "2024-10-04T14:28:18.288632",
     "exception": false,
     "start_time": "2024-10-04T14:28:18.262623",
     "status": "completed"
    },
    "tags": []
   },
   "outputs": [],
   "source": [
    "from sklearn.metrics import mean_squared_error"
   ]
  },
  {
   "cell_type": "code",
   "execution_count": 20,
   "id": "46aa5aa2",
   "metadata": {
    "execution": {
     "iopub.execute_input": "2024-10-04T14:28:18.350015Z",
     "iopub.status.busy": "2024-10-04T14:28:18.349470Z",
     "iopub.status.idle": "2024-10-04T14:28:18.357734Z",
     "shell.execute_reply": "2024-10-04T14:28:18.356706Z"
    },
    "papermill": {
     "duration": 0.04198,
     "end_time": "2024-10-04T14:28:18.359902",
     "exception": false,
     "start_time": "2024-10-04T14:28:18.317922",
     "status": "completed"
    },
    "tags": []
   },
   "outputs": [
    {
     "name": "stdout",
     "output_type": "stream",
     "text": [
      "120.31089675866497 0.0\n"
     ]
    }
   ],
   "source": [
    "mean_square_error = mean_squared_error(y_test, y_pred)\n",
    "mean = np.mean(mean_square_error)\n",
    "standard_deviation = np.std(mean_square_error)\n",
    "print(mean, standard_deviation)"
   ]
  },
  {
   "cell_type": "markdown",
   "id": "34ef2793",
   "metadata": {
    "papermill": {
     "duration": 0.016662,
     "end_time": "2024-10-04T14:28:18.393699",
     "exception": false,
     "start_time": "2024-10-04T14:28:18.377037",
     "status": "completed"
    },
    "tags": []
   },
   "source": [
    "Create a list of 50 mean squared errors and report mean and the standard deviation of the mean squared errors."
   ]
  },
  {
   "cell_type": "code",
   "execution_count": 21,
   "id": "69f72c03",
   "metadata": {
    "execution": {
     "iopub.execute_input": "2024-10-04T14:28:18.430086Z",
     "iopub.status.busy": "2024-10-04T14:28:18.429287Z",
     "iopub.status.idle": "2024-10-04T14:30:32.787697Z",
     "shell.execute_reply": "2024-10-04T14:30:32.786578Z"
    },
    "papermill": {
     "duration": 134.379087,
     "end_time": "2024-10-04T14:30:32.790022",
     "exception": false,
     "start_time": "2024-10-04T14:28:18.410935",
     "status": "completed"
    },
    "tags": []
   },
   "outputs": [
    {
     "name": "stdout",
     "output_type": "stream",
     "text": [
      "MSE 1: 67.21350860595703\n",
      "\u001b[1m10/10\u001b[0m \u001b[32m━━━━━━━━━━━━━━━━━━━━\u001b[0m\u001b[37m\u001b[0m \u001b[1m0s\u001b[0m 1ms/step \n",
      "MSE 2: 61.67197799682617\n",
      "\u001b[1m10/10\u001b[0m \u001b[32m━━━━━━━━━━━━━━━━━━━━\u001b[0m\u001b[37m\u001b[0m \u001b[1m0s\u001b[0m 1ms/step \n",
      "MSE 3: 39.23434829711914\n",
      "\u001b[1m10/10\u001b[0m \u001b[32m━━━━━━━━━━━━━━━━━━━━\u001b[0m\u001b[37m\u001b[0m \u001b[1m0s\u001b[0m 1ms/step \n",
      "MSE 4: 39.68058395385742\n",
      "\u001b[1m10/10\u001b[0m \u001b[32m━━━━━━━━━━━━━━━━━━━━\u001b[0m\u001b[37m\u001b[0m \u001b[1m0s\u001b[0m 1ms/step \n",
      "MSE 5: 38.26499938964844\n",
      "\u001b[1m10/10\u001b[0m \u001b[32m━━━━━━━━━━━━━━━━━━━━\u001b[0m\u001b[37m\u001b[0m \u001b[1m0s\u001b[0m 1ms/step \n",
      "MSE 6: 38.047828674316406\n",
      "\u001b[1m10/10\u001b[0m \u001b[32m━━━━━━━━━━━━━━━━━━━━\u001b[0m\u001b[37m\u001b[0m \u001b[1m0s\u001b[0m 1ms/step \n",
      "MSE 7: 39.09700393676758\n",
      "\u001b[1m10/10\u001b[0m \u001b[32m━━━━━━━━━━━━━━━━━━━━\u001b[0m\u001b[37m\u001b[0m \u001b[1m0s\u001b[0m 1ms/step \n",
      "MSE 8: 30.53873062133789\n",
      "\u001b[1m10/10\u001b[0m \u001b[32m━━━━━━━━━━━━━━━━━━━━\u001b[0m\u001b[37m\u001b[0m \u001b[1m0s\u001b[0m 1ms/step \n",
      "MSE 9: 32.51213455200195\n",
      "\u001b[1m10/10\u001b[0m \u001b[32m━━━━━━━━━━━━━━━━━━━━\u001b[0m\u001b[37m\u001b[0m \u001b[1m0s\u001b[0m 1ms/step \n",
      "MSE 10: 32.01976013183594\n",
      "\u001b[1m10/10\u001b[0m \u001b[32m━━━━━━━━━━━━━━━━━━━━\u001b[0m\u001b[37m\u001b[0m \u001b[1m0s\u001b[0m 1ms/step \n",
      "MSE 11: 32.671627044677734\n",
      "\u001b[1m10/10\u001b[0m \u001b[32m━━━━━━━━━━━━━━━━━━━━\u001b[0m\u001b[37m\u001b[0m \u001b[1m0s\u001b[0m 1ms/step \n",
      "MSE 12: 27.045629501342773\n",
      "\u001b[1m10/10\u001b[0m \u001b[32m━━━━━━━━━━━━━━━━━━━━\u001b[0m\u001b[37m\u001b[0m \u001b[1m0s\u001b[0m 1ms/step \n",
      "MSE 13: 33.70929718017578\n",
      "\u001b[1m10/10\u001b[0m \u001b[32m━━━━━━━━━━━━━━━━━━━━\u001b[0m\u001b[37m\u001b[0m \u001b[1m0s\u001b[0m 1ms/step \n",
      "MSE 14: 35.350494384765625\n",
      "\u001b[1m10/10\u001b[0m \u001b[32m━━━━━━━━━━━━━━━━━━━━\u001b[0m\u001b[37m\u001b[0m \u001b[1m0s\u001b[0m 1ms/step \n",
      "MSE 15: 30.689504623413086\n",
      "\u001b[1m10/10\u001b[0m \u001b[32m━━━━━━━━━━━━━━━━━━━━\u001b[0m\u001b[37m\u001b[0m \u001b[1m0s\u001b[0m 1ms/step \n",
      "MSE 16: 23.411903381347656\n",
      "\u001b[1m10/10\u001b[0m \u001b[32m━━━━━━━━━━━━━━━━━━━━\u001b[0m\u001b[37m\u001b[0m \u001b[1m0s\u001b[0m 1ms/step \n",
      "MSE 17: 33.106868743896484\n",
      "\u001b[1m10/10\u001b[0m \u001b[32m━━━━━━━━━━━━━━━━━━━━\u001b[0m\u001b[37m\u001b[0m \u001b[1m0s\u001b[0m 1ms/step \n",
      "MSE 18: 29.272523880004883\n",
      "\u001b[1m10/10\u001b[0m \u001b[32m━━━━━━━━━━━━━━━━━━━━\u001b[0m\u001b[37m\u001b[0m \u001b[1m0s\u001b[0m 1ms/step \n",
      "MSE 19: 26.213502883911133\n",
      "\u001b[1m10/10\u001b[0m \u001b[32m━━━━━━━━━━━━━━━━━━━━\u001b[0m\u001b[37m\u001b[0m \u001b[1m0s\u001b[0m 1ms/step \n",
      "MSE 20: 28.653804779052734\n",
      "\u001b[1m10/10\u001b[0m \u001b[32m━━━━━━━━━━━━━━━━━━━━\u001b[0m\u001b[37m\u001b[0m \u001b[1m0s\u001b[0m 1ms/step \n",
      "MSE 21: 23.959341049194336\n",
      "\u001b[1m10/10\u001b[0m \u001b[32m━━━━━━━━━━━━━━━━━━━━\u001b[0m\u001b[37m\u001b[0m \u001b[1m0s\u001b[0m 1ms/step \n",
      "MSE 22: 26.676830291748047\n",
      "\u001b[1m10/10\u001b[0m \u001b[32m━━━━━━━━━━━━━━━━━━━━\u001b[0m\u001b[37m\u001b[0m \u001b[1m0s\u001b[0m 1ms/step \n",
      "MSE 23: 22.040016174316406\n",
      "\u001b[1m10/10\u001b[0m \u001b[32m━━━━━━━━━━━━━━━━━━━━\u001b[0m\u001b[37m\u001b[0m \u001b[1m0s\u001b[0m 1ms/step \n",
      "MSE 24: 25.69790267944336\n",
      "\u001b[1m10/10\u001b[0m \u001b[32m━━━━━━━━━━━━━━━━━━━━\u001b[0m\u001b[37m\u001b[0m \u001b[1m0s\u001b[0m 1ms/step \n",
      "MSE 25: 24.73538589477539\n",
      "\u001b[1m10/10\u001b[0m \u001b[32m━━━━━━━━━━━━━━━━━━━━\u001b[0m\u001b[37m\u001b[0m \u001b[1m0s\u001b[0m 1ms/step \n",
      "MSE 26: 28.377155303955078\n",
      "\u001b[1m10/10\u001b[0m \u001b[32m━━━━━━━━━━━━━━━━━━━━\u001b[0m\u001b[37m\u001b[0m \u001b[1m0s\u001b[0m 1ms/step \n",
      "MSE 27: 21.629241943359375\n",
      "\u001b[1m10/10\u001b[0m \u001b[32m━━━━━━━━━━━━━━━━━━━━\u001b[0m\u001b[37m\u001b[0m \u001b[1m0s\u001b[0m 1ms/step \n",
      "MSE 28: 23.159025192260742\n",
      "\u001b[1m10/10\u001b[0m \u001b[32m━━━━━━━━━━━━━━━━━━━━\u001b[0m\u001b[37m\u001b[0m \u001b[1m0s\u001b[0m 1ms/step \n",
      "MSE 29: 30.03179359436035\n",
      "\u001b[1m10/10\u001b[0m \u001b[32m━━━━━━━━━━━━━━━━━━━━\u001b[0m\u001b[37m\u001b[0m \u001b[1m0s\u001b[0m 1ms/step \n",
      "MSE 30: 25.697261810302734\n",
      "\u001b[1m10/10\u001b[0m \u001b[32m━━━━━━━━━━━━━━━━━━━━\u001b[0m\u001b[37m\u001b[0m \u001b[1m0s\u001b[0m 1ms/step \n",
      "MSE 31: 23.159954071044922\n",
      "\u001b[1m10/10\u001b[0m \u001b[32m━━━━━━━━━━━━━━━━━━━━\u001b[0m\u001b[37m\u001b[0m \u001b[1m0s\u001b[0m 1ms/step \n",
      "MSE 32: 21.611635208129883\n",
      "\u001b[1m10/10\u001b[0m \u001b[32m━━━━━━━━━━━━━━━━━━━━\u001b[0m\u001b[37m\u001b[0m \u001b[1m0s\u001b[0m 1ms/step \n",
      "MSE 33: 18.618785858154297\n",
      "\u001b[1m10/10\u001b[0m \u001b[32m━━━━━━━━━━━━━━━━━━━━\u001b[0m\u001b[37m\u001b[0m \u001b[1m0s\u001b[0m 1ms/step \n",
      "MSE 34: 25.34088706970215\n",
      "\u001b[1m10/10\u001b[0m \u001b[32m━━━━━━━━━━━━━━━━━━━━\u001b[0m\u001b[37m\u001b[0m \u001b[1m0s\u001b[0m 1ms/step \n",
      "MSE 35: 23.598424911499023\n",
      "\u001b[1m10/10\u001b[0m \u001b[32m━━━━━━━━━━━━━━━━━━━━\u001b[0m\u001b[37m\u001b[0m \u001b[1m0s\u001b[0m 1ms/step \n",
      "MSE 36: 27.956575393676758\n",
      "\u001b[1m10/10\u001b[0m \u001b[32m━━━━━━━━━━━━━━━━━━━━\u001b[0m\u001b[37m\u001b[0m \u001b[1m0s\u001b[0m 1ms/step \n",
      "MSE 37: 20.499736785888672\n",
      "\u001b[1m10/10\u001b[0m \u001b[32m━━━━━━━━━━━━━━━━━━━━\u001b[0m\u001b[37m\u001b[0m \u001b[1m0s\u001b[0m 1ms/step \n",
      "MSE 38: 24.275035858154297\n",
      "\u001b[1m10/10\u001b[0m \u001b[32m━━━━━━━━━━━━━━━━━━━━\u001b[0m\u001b[37m\u001b[0m \u001b[1m0s\u001b[0m 1ms/step \n",
      "MSE 39: 25.517141342163086\n",
      "\u001b[1m10/10\u001b[0m \u001b[32m━━━━━━━━━━━━━━━━━━━━\u001b[0m\u001b[37m\u001b[0m \u001b[1m0s\u001b[0m 1ms/step \n",
      "MSE 40: 20.22260856628418\n",
      "\u001b[1m10/10\u001b[0m \u001b[32m━━━━━━━━━━━━━━━━━━━━\u001b[0m\u001b[37m\u001b[0m \u001b[1m0s\u001b[0m 1ms/step \n",
      "MSE 41: 23.98166847229004\n",
      "\u001b[1m10/10\u001b[0m \u001b[32m━━━━━━━━━━━━━━━━━━━━\u001b[0m\u001b[37m\u001b[0m \u001b[1m0s\u001b[0m 1ms/step \n",
      "MSE 42: 22.691747665405273\n",
      "\u001b[1m10/10\u001b[0m \u001b[32m━━━━━━━━━━━━━━━━━━━━\u001b[0m\u001b[37m\u001b[0m \u001b[1m0s\u001b[0m 1ms/step \n",
      "MSE 43: 23.018112182617188\n",
      "\u001b[1m10/10\u001b[0m \u001b[32m━━━━━━━━━━━━━━━━━━━━\u001b[0m\u001b[37m\u001b[0m \u001b[1m0s\u001b[0m 1ms/step \n",
      "MSE 44: 26.268592834472656\n",
      "\u001b[1m10/10\u001b[0m \u001b[32m━━━━━━━━━━━━━━━━━━━━\u001b[0m\u001b[37m\u001b[0m \u001b[1m0s\u001b[0m 1ms/step \n",
      "MSE 45: 25.32715606689453\n",
      "\u001b[1m10/10\u001b[0m \u001b[32m━━━━━━━━━━━━━━━━━━━━\u001b[0m\u001b[37m\u001b[0m \u001b[1m0s\u001b[0m 1ms/step \n",
      "MSE 46: 26.90553855895996\n",
      "\u001b[1m10/10\u001b[0m \u001b[32m━━━━━━━━━━━━━━━━━━━━\u001b[0m\u001b[37m\u001b[0m \u001b[1m0s\u001b[0m 1ms/step \n",
      "MSE 47: 21.919912338256836\n",
      "\u001b[1m10/10\u001b[0m \u001b[32m━━━━━━━━━━━━━━━━━━━━\u001b[0m\u001b[37m\u001b[0m \u001b[1m0s\u001b[0m 1ms/step \n",
      "MSE 48: 22.500930786132812\n",
      "\u001b[1m10/10\u001b[0m \u001b[32m━━━━━━━━━━━━━━━━━━━━\u001b[0m\u001b[37m\u001b[0m \u001b[1m0s\u001b[0m 1ms/step \n",
      "MSE 49: 25.1225643157959\n",
      "\u001b[1m10/10\u001b[0m \u001b[32m━━━━━━━━━━━━━━━━━━━━\u001b[0m\u001b[37m\u001b[0m \u001b[1m0s\u001b[0m 1ms/step \n",
      "MSE 50: 23.528823852539062\n",
      "\u001b[1m10/10\u001b[0m \u001b[32m━━━━━━━━━━━━━━━━━━━━\u001b[0m\u001b[37m\u001b[0m \u001b[1m0s\u001b[0m 1ms/step \n",
      "\n",
      "\n",
      "Below is the mean and standard deviation of 50 mean squared errors with normalized data. Total number of epochs for each training is: 50\n",
      "\n",
      "Mean: 28.84951590399762\n",
      "Standard Deviation: 9.02668063426728\n"
     ]
    }
   ],
   "source": [
    "total_mean_squared_errors = 50\n",
    "epochs = 50\n",
    "mean_squared_errors = []\n",
    "for i in range(0, total_mean_squared_errors):\n",
    "    X_train, X_test, y_train, y_test = train_test_split(predictors_norm, target, test_size=0.3, random_state=i)\n",
    "    model.fit(X_train, y_train, epochs=epochs, verbose=0)\n",
    "    MSE = model.evaluate(X_test, y_test, verbose=0)\n",
    "    print(\"MSE \"+str(i+1)+\": \"+str(MSE))\n",
    "    y_pred = model.predict(X_test)\n",
    "    mean_square_error = mean_squared_error(y_test, y_pred)\n",
    "    mean_squared_errors.append(mean_square_error)\n",
    "\n",
    "mean_squared_errors = np.array(mean_squared_errors)\n",
    "mean = np.mean(mean_squared_errors)\n",
    "standard_deviation = np.std(mean_squared_errors)\n",
    "\n",
    "print('\\n')\n",
    "print(\"Below is the mean and standard deviation of \" +str(total_mean_squared_errors) + \" mean squared errors with normalized data. Total number of epochs for each training is: \" +str(epochs) + \"\\n\")\n",
    "print(\"Mean: \"+str(mean))\n",
    "print(\"Standard Deviation: \"+str(standard_deviation))"
   ]
  },
  {
   "cell_type": "code",
   "execution_count": null,
   "id": "a3ba9cc3",
   "metadata": {
    "papermill": {
     "duration": 0.023486,
     "end_time": "2024-10-04T14:30:32.837239",
     "exception": false,
     "start_time": "2024-10-04T14:30:32.813753",
     "status": "completed"
    },
    "tags": []
   },
   "outputs": [],
   "source": []
  }
 ],
 "metadata": {
  "kaggle": {
   "accelerator": "none",
   "dataSources": [
    {
     "datasetId": 5816920,
     "sourceId": 9547491,
     "sourceType": "datasetVersion"
    }
   ],
   "dockerImageVersionId": 30786,
   "isGpuEnabled": false,
   "isInternetEnabled": true,
   "language": "python",
   "sourceType": "notebook"
  },
  "kernelspec": {
   "display_name": "Python 3",
   "language": "python",
   "name": "python3"
  },
  "language_info": {
   "codemirror_mode": {
    "name": "ipython",
    "version": 3
   },
   "file_extension": ".py",
   "mimetype": "text/x-python",
   "name": "python",
   "nbconvert_exporter": "python",
   "pygments_lexer": "ipython3",
   "version": "3.10.14"
  },
  "papermill": {
   "default_parameters": {},
   "duration": 160.351204,
   "end_time": "2024-10-04T14:30:34.385969",
   "environment_variables": {},
   "exception": null,
   "input_path": "__notebook__.ipynb",
   "output_path": "__notebook__.ipynb",
   "parameters": {},
   "start_time": "2024-10-04T14:27:54.034765",
   "version": "2.6.0"
  }
 },
 "nbformat": 4,
 "nbformat_minor": 5
}
